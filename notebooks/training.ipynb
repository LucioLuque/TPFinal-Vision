{
 "cells": [
  {
   "cell_type": "code",
   "execution_count": null,
   "id": "9225c356",
   "metadata": {},
   "outputs": [],
   "source": [
    "import sys\n",
    "import os\n",
    "import torch.nn as nn\n",
    "import torch\n",
    "from sklearn.model_selection import train_test_split\n",
    "\n",
    "sys.path.append(os.path.abspath(os.path.join(\"..\", \"src\")))\n",
    "import models\n",
    "import metrics\n",
    "import dataset"
   ]
  },
  {
   "cell_type": "markdown",
   "id": "d9da2fff",
   "metadata": {},
   "source": [
    "### Preparación de dataset"
   ]
  },
  {
   "cell_type": "code",
   "execution_count": 13,
   "id": "451b34db",
   "metadata": {},
   "outputs": [],
   "source": [
    "ds = dataset.load_general100_dataset()"
   ]
  },
  {
   "cell_type": "code",
   "execution_count": 14,
   "id": "d8d17869",
   "metadata": {},
   "outputs": [],
   "source": [
    "img_arr = [img[\"image\"] for img in ds[\"train\"]]"
   ]
  },
  {
   "cell_type": "code",
   "execution_count": 15,
   "id": "f86d0981",
   "metadata": {},
   "outputs": [],
   "source": [
    "img_samples = img_arr[:100]\n",
    "args_more_data = [[0.9, 0.8, 0.7], [90, 180, 270]]\n",
    "args_training_samples = [2, (10, 10), 5, True]\n",
    "augmented_patches = dataset.get_dataset(img_samples, args_more_data, args_training_samples)"
   ]
  },
  {
   "cell_type": "code",
   "execution_count": null,
   "id": "adfe7932",
   "metadata": {},
   "outputs": [],
   "source": [
    "train_patches, test_patches = train_test_split(augmented_patches, test_size=0.2, random_state=42)"
   ]
  },
  {
   "cell_type": "markdown",
   "id": "00367c4d",
   "metadata": {},
   "source": [
    "### Preparación del modelo"
   ]
  },
  {
   "cell_type": "code",
   "execution_count": 8,
   "id": "1d495bcb",
   "metadata": {},
   "outputs": [],
   "source": [
    "upsample_factor = 2\n",
    "model = models.SimpleSRModel(upsample_factor)"
   ]
  },
  {
   "cell_type": "code",
   "execution_count": 9,
   "id": "3500c3ca",
   "metadata": {},
   "outputs": [
    {
     "data": {
      "text/plain": [
       "SimpleSRModel(\n",
       "  (body): Sequential(\n",
       "    (0): Conv2d(1, 64, kernel_size=(9, 9), stride=(1, 1), padding=(4, 4))\n",
       "    (1): PReLU(num_parameters=1)\n",
       "    (2): Conv2d(64, 32, kernel_size=(1, 1), stride=(1, 1))\n",
       "    (3): PReLU(num_parameters=1)\n",
       "    (4): Conv2d(32, 4, kernel_size=(5, 5), stride=(1, 1), padding=(2, 2))\n",
       "    (5): PixelShuffle(upscale_factor=2)\n",
       "  )\n",
       ")"
      ]
     },
     "execution_count": 9,
     "metadata": {},
     "output_type": "execute_result"
    }
   ],
   "source": [
    "criterion = nn.MSELoss()\n",
    "optimizer = torch.optim.Adam(model.parameters(), lr=1e-4)\n",
    "device = torch.device(\"cuda\" if torch.cuda.is_available() else \"cpu\")\n",
    "model.to(device)"
   ]
  },
  {
   "cell_type": "code",
   "execution_count": null,
   "id": "2be6289d",
   "metadata": {},
   "outputs": [
    {
     "ename": "NameError",
     "evalue": "name 'dataloader' is not defined",
     "output_type": "error",
     "traceback": [
      "\u001b[0;31m---------------------------------------------------------------------------\u001b[0m",
      "\u001b[0;31mNameError\u001b[0m                                 Traceback (most recent call last)",
      "Cell \u001b[0;32mIn[11], line 8\u001b[0m\n\u001b[1;32m      5\u001b[0m model\u001b[38;5;241m.\u001b[39mtrain()\n\u001b[1;32m      6\u001b[0m running_loss \u001b[38;5;241m=\u001b[39m \u001b[38;5;241m0.0\u001b[39m\n\u001b[0;32m----> 8\u001b[0m \u001b[38;5;28;01mfor\u001b[39;00m lr, hr \u001b[38;5;129;01min\u001b[39;00m \u001b[43mdataloader\u001b[49m:\n\u001b[1;32m      9\u001b[0m     lr \u001b[38;5;241m=\u001b[39m lr\u001b[38;5;241m.\u001b[39mto(device)\n\u001b[1;32m     10\u001b[0m     hr \u001b[38;5;241m=\u001b[39m hr\u001b[38;5;241m.\u001b[39mto(device)\n",
      "\u001b[0;31mNameError\u001b[0m: name 'dataloader' is not defined"
     ]
    }
   ],
   "source": [
    "num_epochs = 10\n",
    "model.train()\n",
    "\n",
    "# Esto es directo del chat:\n",
    "for epoch in range(num_epochs):\n",
    "    model.train()\n",
    "    running_loss = 0.0\n",
    "    \n",
    "    for lr, hr in dataloader:\n",
    "        lr = lr.to(device)\n",
    "        hr = hr.to(device)\n",
    "        \n",
    "        optimizer.zero_grad()\n",
    "        sr = model(lr)\n",
    "        loss = criterion(sr, hr)\n",
    "        loss.backward()\n",
    "        optimizer.step()\n",
    "        \n",
    "        running_loss += loss.item() * lr.size(0)\n",
    "    \n",
    "    epoch_loss = running_loss / len(dataset)\n",
    "    print(f\"Epoch {epoch+1}/{num_epochs}, Loss: {epoch_loss:.6f}\")"
   ]
  }
 ],
 "metadata": {
  "kernelspec": {
   "display_name": "metodos",
   "language": "python",
   "name": "python3"
  },
  "language_info": {
   "codemirror_mode": {
    "name": "ipython",
    "version": 3
   },
   "file_extension": ".py",
   "mimetype": "text/x-python",
   "name": "python",
   "nbconvert_exporter": "python",
   "pygments_lexer": "ipython3",
   "version": "3.11.4"
  }
 },
 "nbformat": 4,
 "nbformat_minor": 5
}
