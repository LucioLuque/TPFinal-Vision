{
 "cells": [
  {
   "cell_type": "code",
   "execution_count": null,
   "id": "6edfd95f",
   "metadata": {},
   "outputs": [],
   "source": [
    "from tabulate import tabulate\n",
    "import os\n",
    "import sys\n",
    "sys.path.append(os.path.abspath(os.path.join(\"..\", \"src\")))\n",
    "from utils import get_test_images, get_results\n",
    "\n",
    "%load_ext autoreload\n",
    "%autoreload 2"
   ]
  },
  {
   "cell_type": "code",
   "execution_count": 3,
   "id": "7f66ad35",
   "metadata": {},
   "outputs": [
    {
     "name": "stdout",
     "output_type": "stream",
     "text": [
      "dict_keys([5, 14])\n",
      "dict_keys([2, 3, 4])\n",
      "dict_keys(['lr', 'hr'])\n",
      "5 5\n"
     ]
    }
   ],
   "source": [
    "all_images = get_test_images()\n",
    "print(all_images.keys())\n",
    "print(all_images[5].keys())\n",
    "print(all_images[5][2].keys())\n",
    "print(len(all_images[5][2]['lr']), len(all_images[5][2]['hr']))"
   ]
  },
  {
   "cell_type": "code",
   "execution_count": 4,
   "id": "f517c622",
   "metadata": {},
   "outputs": [],
   "source": [
    "results = get_results(all_images)"
   ]
  },
  {
   "cell_type": "code",
   "execution_count": 5,
   "id": "5386d181",
   "metadata": {},
   "outputs": [
    {
     "name": "stdout",
     "output_type": "stream",
     "text": [
      "╒═══════╤══════════╤══════════╤═════════╤══════════╕\n",
      "│   Set │   Factor │ Method   │    PSNR │     SSIM │\n",
      "╞═══════╪══════════╪══════════╪═════════╪══════════╡\n",
      "│     5 │        2 │ bicubic  │ 31.7901 │ 0.917774 │\n",
      "├───────┼──────────┼──────────┼─────────┼──────────┤\n",
      "│     5 │        2 │ nearest  │ 29.0772 │ 0.891329 │\n",
      "├───────┼──────────┼──────────┼─────────┼──────────┤\n",
      "│     5 │        2 │ bilinear │ 30.419  │ 0.897392 │\n",
      "├───────┼──────────┼──────────┼─────────┼──────────┤\n",
      "│     5 │        3 │ bicubic  │ 28.6229 │ 0.853604 │\n",
      "├───────┼──────────┼──────────┼─────────┼──────────┤\n",
      "│     5 │        3 │ nearest  │ 26.222  │ 0.806113 │\n",
      "├───────┼──────────┼──────────┼─────────┼──────────┤\n",
      "│     5 │        3 │ bilinear │ 27.7914 │ 0.834241 │\n",
      "├───────┼──────────┼──────────┼─────────┼──────────┤\n",
      "│     5 │        4 │ bicubic  │ 26.6974 │ 0.789953 │\n",
      "├───────┼──────────┼──────────┼─────────┼──────────┤\n",
      "│     5 │        4 │ nearest  │ 24.6074 │ 0.731118 │\n",
      "├───────┼──────────┼──────────┼─────────┼──────────┤\n",
      "│     5 │        4 │ bilinear │ 25.8588 │ 0.763264 │\n",
      "├───────┼──────────┼──────────┼─────────┼──────────┤\n",
      "│    14 │        2 │ bicubic  │ 28.3095 │ 0.852596 │\n",
      "├───────┼──────────┼──────────┼─────────┼──────────┤\n",
      "│    14 │        2 │ nearest  │ 26.7175 │ 0.832939 │\n",
      "├───────┼──────────┼──────────┼─────────┼──────────┤\n",
      "│    14 │        2 │ bilinear │ 27.3167 │ 0.822344 │\n",
      "├───────┼──────────┼──────────┼─────────┼──────────┤\n",
      "│    14 │        3 │ bicubic  │ 25.7441 │ 0.758424 │\n",
      "├───────┼──────────┼──────────┼─────────┼──────────┤\n",
      "│    14 │        3 │ nearest  │ 24.3056 │ 0.724028 │\n",
      "├───────┼──────────┼──────────┼─────────┼──────────┤\n",
      "│    14 │        3 │ bilinear │ 25.1945 │ 0.73609  │\n",
      "├───────┼──────────┼──────────┼─────────┼──────────┤\n",
      "│    14 │        4 │ bicubic  │ 24.2515 │ 0.683191 │\n",
      "├───────┼──────────┼──────────┼─────────┼──────────┤\n",
      "│    14 │        4 │ nearest  │ 22.9823 │ 0.643756 │\n",
      "├───────┼──────────┼──────────┼─────────┼──────────┤\n",
      "│    14 │        4 │ bilinear │ 23.7128 │ 0.656452 │\n",
      "╘═══════╧══════════╧══════════╧═════════╧══════════╛\n"
     ]
    }
   ],
   "source": [
    "print(tabulate(results, headers=\"keys\", tablefmt=\"fancy_grid\", showindex=False))"
   ]
  }
 ],
 "metadata": {
  "kernelspec": {
   "display_name": "Python (env3)",
   "language": "python",
   "name": "env3"
  },
  "language_info": {
   "codemirror_mode": {
    "name": "ipython",
    "version": 3
   },
   "file_extension": ".py",
   "mimetype": "text/x-python",
   "name": "python",
   "nbconvert_exporter": "python",
   "pygments_lexer": "ipython3",
   "version": "3.13.2"
  }
 },
 "nbformat": 4,
 "nbformat_minor": 5
}
