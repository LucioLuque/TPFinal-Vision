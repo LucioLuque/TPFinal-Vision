{
 "cells": [
  {
   "cell_type": "code",
   "execution_count": 2,
   "id": "c27f9d59",
   "metadata": {},
   "outputs": [],
   "source": [
    "import torch\n",
    "import torch.nn as nn\n",
    "import torch.optim as optim\n",
    "from tqdm import tqdm\n",
    "from torchinfo import summary\n",
    "\n",
    "import sys\n",
    "import os\n",
    "sys.path.append(os.path.abspath(os.path.join(\"..\", \"src\")))\n",
    "import dataset\n",
    "from models import FSRCNN\n",
    "import metrics\n",
    "\n",
    "# %load_ext autoreload\n",
    "# %autoreload 2"
   ]
  },
  {
   "cell_type": "code",
   "execution_count": 5,
   "id": "f6a02ace",
   "metadata": {},
   "outputs": [],
   "source": [
    "ds = dataset.load_general100_dataset()\n",
    "img_arr = [img[\"image\"] for img in ds[\"train\"]]"
   ]
  },
  {
   "cell_type": "code",
   "execution_count": 3,
   "id": "f03bf065",
   "metadata": {},
   "outputs": [],
   "source": [
    "# img_sample = img_arr[0:150]  # Sample 10 images for training\n",
    "# args_augment_fsrcnn = [[0.8, 0.6], [180]]\n",
    "# args_patches_fsrcnn = [upsample_factor, 100, 5, True]\n",
    "\n",
    "# args_dataloaders = {\n",
    "#     \"batch_size\": 128,\n",
    "#     \"num_workers\": 0,\n",
    "#     \"seed\": 42,\n",
    "#     \"val_split\": 0.2\n",
    "# }\n",
    "# train_loader, val_loader = dataset.prepare_to_train(img_sample, args_augment_fsrcnn, args_patches_fsrcnn, args_dataloaders)"
   ]
  },
  {
   "cell_type": "code",
   "execution_count": null,
   "id": "a5be0c3d",
   "metadata": {},
   "outputs": [
    {
     "name": "stdout",
     "output_type": "stream",
     "text": [
      "Lazy CV2 Dataset Statistics:\n",
      "\n",
      "Total samples: 2261956\n",
      "Training examples: 1809565\n",
      "Validation examples: 452391\n",
      "Batch size: 512\n"
     ]
    }
   ],
   "source": [
    "# Paso 1: Convertir imágenes PIL a arrays BGR (formato OpenCV)\n",
    "img_sample = img_arr[0:150]\n",
    "img_sample_cv2 = [dataset.pil_to_cv2(img) for img in img_sample]\n",
    "\n",
    "# Paso 2: Augmentación con escalado y rotación usando OpenCV\n",
    "args_augment_fsrcnn = [[0.9, 0.8, 0.7], [90, 180, 270]]\n",
    "augmented_images_cv2 = dataset.augment_data_cv2(img_sample_cv2, *args_augment_fsrcnn)\n",
    "\n",
    "# Paso 3: Parámetros para generación de parches lazy\n",
    "upsample_factor = 2\n",
    "patch_size = 10\n",
    "stride = 5\n",
    "use_deconv = True\n",
    "\n",
    "# Paso 4: DataLoaders con LazyPatchDatasetCV2\n",
    "train_loader, val_loader = dataset.lazy_train_val_dataloaders_cv2(\n",
    "    images=augmented_images_cv2,\n",
    "    scale_factor=upsample_factor,\n",
    "    patch_size=patch_size,\n",
    "    stride=stride,\n",
    "    use_deconv=use_deconv,\n",
    "    batch_size=512,\n",
    "    num_workers=6,\n",
    "    seed=42,\n",
    "    val_split=0.2\n",
    ")"
   ]
  },
  {
   "cell_type": "code",
   "execution_count": 31,
   "id": "46ce05ab",
   "metadata": {},
   "outputs": [],
   "source": [
    "from torch.amp import autocast, GradScaler\n",
    "\n",
    "def train_sr_model(model, train_loader, val_loader, num_epochs=10, lr=1e-4, device=None):\n",
    "    if device is None:\n",
    "        device = torch.device(\"cuda\" if torch.cuda.is_available() else \"cpu\")\n",
    "    print(f\"Using device: {device}\")\n",
    "    criterion = nn.MSELoss()\n",
    "    optimizer = optim.Adam(model.parameters(), lr=lr)\n",
    "    model.to(device)\n",
    "    scaler = GradScaler('cuda')\n",
    "    train_loss = []\n",
    "    valid_loss = []\n",
    "    for epoch in range(num_epochs):\n",
    "        model.train()\n",
    "        running_loss = 0.0\n",
    "\n",
    "        for batch in tqdm(train_loader, desc=f\"Epoch {epoch+1}/{num_epochs} - Training\"):\n",
    "            lr_batch, hr_batch = batch\n",
    "            lr_batch, hr_batch = lr_batch.to(device), hr_batch.to(device)\n",
    "\n",
    "            optimizer.zero_grad()\n",
    "            with autocast('cuda'):\n",
    "                sr_batch = model(lr_batch)\n",
    "                loss = criterion(sr_batch, hr_batch)\n",
    "\n",
    "            scaler.scale(loss).backward()\n",
    "            scaler.step(optimizer)\n",
    "            scaler.update()\n",
    "\n",
    "            running_loss += loss.item()\n",
    "\n",
    "        avg_train_loss = running_loss / len(train_loader)\n",
    "        print(f\"[Epoch {epoch+1}] Train Loss: {avg_train_loss:.6f}\")\n",
    "        train_loss.append(avg_train_loss)\n",
    "\n",
    "        # VALIDACIÓN\n",
    "        model.eval()\n",
    "        val_loss = 0.0\n",
    "        with torch.no_grad():\n",
    "            for val_batch in val_loader:\n",
    "                lr_val, hr_val = val_batch\n",
    "                lr_val, hr_val = lr_val.to(device), hr_val.to(device)\n",
    "                with autocast('cuda'):\n",
    "                    sr_val = model(lr_val)\n",
    "                    loss = criterion(sr_val, hr_val)\n",
    "                val_loss += loss.item()\n",
    "\n",
    "        avg_val_loss = val_loss / len(val_loader)\n",
    "        print(f\"[Epoch {epoch+1}] Val Loss: {avg_val_loss:.6f}\")\n",
    "        valid_loss.append(avg_val_loss)\n",
    "\n",
    "    return train_loss, valid_loss"
   ]
  },
  {
   "cell_type": "code",
   "execution_count": 8,
   "id": "37023ef3",
   "metadata": {},
   "outputs": [
    {
     "name": "stdout",
     "output_type": "stream",
     "text": [
      "==========================================================================================\n",
      "Layer (type:depth-idx)                   Output Shape              Param #\n",
      "==========================================================================================\n",
      "FSRCNN                                   [1, 1, 20, 20]            --\n",
      "├─Sequential: 1-1                        [1, 56, 10, 10]           --\n",
      "│    └─Conv2d: 2-1                       [1, 56, 10, 10]           1,456\n",
      "│    └─PReLU: 2-2                        [1, 56, 10, 10]           56\n",
      "├─Sequential: 1-2                        [1, 12, 10, 10]           --\n",
      "│    └─Conv2d: 2-3                       [1, 12, 10, 10]           684\n",
      "│    └─PReLU: 2-4                        [1, 12, 10, 10]           12\n",
      "├─Sequential: 1-3                        [1, 12, 10, 10]           --\n",
      "│    └─Conv2d: 2-5                       [1, 12, 10, 10]           1,308\n",
      "│    └─PReLU: 2-6                        [1, 12, 10, 10]           12\n",
      "│    └─Conv2d: 2-7                       [1, 12, 10, 10]           1,308\n",
      "│    └─PReLU: 2-8                        [1, 12, 10, 10]           12\n",
      "│    └─Conv2d: 2-9                       [1, 12, 10, 10]           1,308\n",
      "│    └─PReLU: 2-10                       [1, 12, 10, 10]           12\n",
      "│    └─Conv2d: 2-11                      [1, 12, 10, 10]           1,308\n",
      "│    └─PReLU: 2-12                       [1, 12, 10, 10]           12\n",
      "├─Sequential: 1-4                        [1, 56, 10, 10]           --\n",
      "│    └─Conv2d: 2-13                      [1, 56, 10, 10]           728\n",
      "│    └─PReLU: 2-14                       [1, 56, 10, 10]           56\n",
      "├─Sequential: 1-5                        [1, 1, 20, 20]            --\n",
      "│    └─ConvTranspose2d: 2-15             [1, 1, 20, 20]            4,537\n",
      "==========================================================================================\n",
      "Total params: 12,809\n",
      "Trainable params: 12,809\n",
      "Non-trainable params: 0\n",
      "Total mult-adds (Units.MEGABYTES): 2.62\n",
      "==========================================================================================\n",
      "Input size (MB): 0.00\n",
      "Forward/backward pass size (MB): 0.28\n",
      "Params size (MB): 0.05\n",
      "Estimated Total Size (MB): 0.33\n",
      "==========================================================================================\n"
     ]
    }
   ],
   "source": [
    "upsample_factor = 2\n",
    "patch_size = 10\n",
    "model = FSRCNN(upsample_factor=upsample_factor)\n",
    "print(summary(model, input_size=(1, 1, patch_size, patch_size)))"
   ]
  },
  {
   "cell_type": "code",
   "execution_count": null,
   "id": "55638275",
   "metadata": {},
   "outputs": [
    {
     "name": "stdout",
     "output_type": "stream",
     "text": [
      "Using device: cuda\n"
     ]
    },
    {
     "name": "stderr",
     "output_type": "stream",
     "text": [
      "Epoch 1/10 - Training: 100%|██████████| 3535/3535 [02:54<00:00, 20.27it/s]\n"
     ]
    },
    {
     "name": "stdout",
     "output_type": "stream",
     "text": [
      "[Epoch 1] Train Loss: 0.010830\n",
      "[Epoch 1] Val Loss: 0.003297\n"
     ]
    },
    {
     "name": "stderr",
     "output_type": "stream",
     "text": [
      "Epoch 2/10 - Training: 100%|██████████| 3535/3535 [02:41<00:00, 21.93it/s]\n"
     ]
    },
    {
     "name": "stdout",
     "output_type": "stream",
     "text": [
      "[Epoch 2] Train Loss: 0.002674\n",
      "[Epoch 2] Val Loss: 0.002307\n"
     ]
    },
    {
     "name": "stderr",
     "output_type": "stream",
     "text": [
      "Epoch 3/10 - Training: 100%|██████████| 3535/3535 [02:37<00:00, 22.40it/s]\n"
     ]
    },
    {
     "name": "stdout",
     "output_type": "stream",
     "text": [
      "[Epoch 3] Train Loss: 0.002192\n",
      "[Epoch 3] Val Loss: 0.002102\n"
     ]
    },
    {
     "name": "stderr",
     "output_type": "stream",
     "text": [
      "Epoch 4/10 - Training: 100%|██████████| 3535/3535 [02:42<00:00, 21.77it/s]\n"
     ]
    },
    {
     "name": "stdout",
     "output_type": "stream",
     "text": [
      "[Epoch 4] Train Loss: 0.002056\n",
      "[Epoch 4] Val Loss: 0.002013\n"
     ]
    },
    {
     "name": "stderr",
     "output_type": "stream",
     "text": [
      "Epoch 5/10 - Training: 100%|██████████| 3535/3535 [02:42<00:00, 21.76it/s]\n"
     ]
    },
    {
     "name": "stdout",
     "output_type": "stream",
     "text": [
      "[Epoch 5] Train Loss: 0.002005\n"
     ]
    }
   ],
   "source": [
    "train_loss, val_loss = train_sr_model(model, train_loader, val_loader, num_epochs=10, lr=1e-4)\n",
    "torch.save(model.state_dict(), \"fsrcnn_model.pth\")"
   ]
  },
  {
   "cell_type": "code",
   "execution_count": null,
   "id": "dc4f99cf",
   "metadata": {},
   "outputs": [
    {
     "data": {
      "image/png": "[encoded data removed]",
      "text/plain": [
       "<Figure size 1000x500 with 1 Axes>"
      ]
     },
     "metadata": {},
     "output_type": "display_data"
    }
   ],
   "source": [
    "## plot the train loss and validation loss evolution\n",
    "import matplotlib.pyplot as plt\n",
    "plt.figure(figsize=(10, 5))\n",
    "plt.plot(train_loss, label='Train', color='blue')\n",
    "plt.plot(val_loss, label='Validation', color='orange')\n",
    "plt.title('Training and Validation Loss')\n",
    "plt.xlabel('Epochs')\n",
    "plt.ylabel('MCE Loss')\n",
    "plt.legend()\n",
    "plt.grid()\n",
    "plt.show()"
   ]
  },
  {
   "cell_type": "code",
   "execution_count": null,
   "id": "d0f85701",
   "metadata": {},
   "outputs": [],
   "source": [
    "import json\n",
    "\n",
    "history = {\n",
    "    \"train_loss\": train_loss,\n",
    "    \"val_loss\": val_loss\n",
    "}\n",
    "\n",
    "with open(\"FSRCNN_losses.json\", \"w\") as f:\n",
    "    json.dump(history, f)"
   ]
  },
  {
   "cell_type": "code",
   "execution_count": null,
   "id": "bd098aa0",
   "metadata": {},
   "outputs": [
    {
     "data": {
      "text/plain": [
       "FSRCNN(\n",
       "  (extraction): Sequential(\n",
       "    (0): Conv2d(1, 56, kernel_size=(5, 5), stride=(1, 1), padding=(2, 2))\n",
       "    (1): PReLU(num_parameters=1)\n",
       "  )\n",
       "  (shrinking): Sequential(\n",
       "    (0): Conv2d(56, 12, kernel_size=(1, 1), stride=(1, 1))\n",
       "    (1): PReLU(num_parameters=1)\n",
       "  )\n",
       "  (mapping): Sequential(\n",
       "    (0): Conv2d(12, 12, kernel_size=(3, 3), stride=(1, 1), padding=(1, 1))\n",
       "    (1): PReLU(num_parameters=1)\n",
       "    (2): Conv2d(12, 12, kernel_size=(3, 3), stride=(1, 1), padding=(1, 1))\n",
       "    (3): PReLU(num_parameters=1)\n",
       "    (4): Conv2d(12, 12, kernel_size=(3, 3), stride=(1, 1), padding=(1, 1))\n",
       "    (5): PReLU(num_parameters=1)\n",
       "    (6): Conv2d(12, 12, kernel_size=(3, 3), stride=(1, 1), padding=(1, 1))\n",
       "    (7): PReLU(num_parameters=1)\n",
       "  )\n",
       "  (expansion): Sequential(\n",
       "    (0): Conv2d(12, 56, kernel_size=(1, 1), stride=(1, 1))\n",
       "    (1): PReLU(num_parameters=1)\n",
       "  )\n",
       "  (upsample): Sequential(\n",
       "    (0): ConvTranspose2d(56, 1, kernel_size=(9, 9), stride=(2, 2), padding=(4, 4), output_padding=(1, 1))\n",
       "  )\n",
       ")"
      ]
     },
     "execution_count": 26,
     "metadata": {},
     "output_type": "execute_result"
    }
   ],
   "source": [
    "model = FSRCNN(upsample_factor=2)\n",
    "model.load_state_dict(torch.load(\"fsrcnn_model.pth\"))\n",
    "model.eval()"
   ]
  },
  {
   "cell_type": "code",
   "execution_count": null,
   "id": "c698e1a8",
   "metadata": {},
   "outputs": [
    {
     "name": "stdout",
     "output_type": "stream",
     "text": [
      "Set5 - PSNR: 31.72, SSIM: 0.8886\n",
      "Set14 - PSNR: 28.37, SSIM: 0.8236\n"
     ]
    }
   ],
   "source": [
    "import numpy as np\n",
    "from models import get_y_tensors\n",
    "import utils\n",
    "\n",
    "device = torch.device(\"cuda\" if torch.cuda.is_available() else \"cpu\")\n",
    "model.to(device)\n",
    "\n",
    "factor = 2\n",
    "for setnum in [5, 14]:\n",
    "    ds = utils.get_images(setnum, factor)\n",
    "    hr_images, lr_images = zip(*ds)\n",
    "    lr_tensors = get_y_tensors(lr_images)\n",
    "    hr_tensors = get_y_tensors(hr_images)\n",
    "\n",
    "    psnrs = []\n",
    "    ssims = []\n",
    "    for lr, hr in zip(lr_tensors, hr_tensors):\n",
    "        lr = lr.to(device)\n",
    "        with torch.no_grad():\n",
    "            sr = model(lr).cpu().numpy().squeeze()\n",
    "            hr = hr.numpy().squeeze()\n",
    "\n",
    "        sr = np.clip(sr, 0, 1) # probablemente introduce error, hay que ver como evitarlo\n",
    "\n",
    "        # show both images with matplotlib\n",
    "        # import matplotlib.pyplot as plt\n",
    "        # plt.figure(figsize=(10, 5))\n",
    "        # plt.subplot(1, 2, 1)\n",
    "        # plt.imshow(sr, cmap='gray')\n",
    "        # plt.title('Super-Resolved Image')\n",
    "        # plt.axis('off')\n",
    "        # plt.subplot(1, 2, 2)\n",
    "        # plt.imshow(hr, cmap='gray')\n",
    "        # plt.title('High-Resolution Image')\n",
    "        # plt.axis('off')\n",
    "        # plt.show()\n",
    "        # # print image shapes\n",
    "        # print(f\"Super-Resolved Image Shape: {sr.shape}, High-Resolution Image Shape: {hr.shape}\")\n",
    "\n",
    "        psnrs.append(metrics.calculate_psnr(sr, hr, data_range=1.0))\n",
    "        ssims.append(metrics.calculate_ssim(sr, hr, data_range=1.0))\n",
    "    print(f\"Set{setnum} - PSNR: {np.mean(psnrs):.2f}, SSIM: {np.mean(ssims):.4f}\")\n"
   ]
  }
 ],
 "metadata": {
  "kernelspec": {
   "display_name": "Python (env3)",
   "language": "python",
   "name": "env3"
  },
  "language_info": {
   "codemirror_mode": {
    "name": "ipython",
    "version": 3
   },
   "file_extension": ".py",
   "mimetype": "text/x-python",
   "name": "python",
   "nbconvert_exporter": "python",
   "pygments_lexer": "ipython3",
   "version": "3.13.2"
  }
 },
 "nbformat": 4,
 "nbformat_minor": 5
}
