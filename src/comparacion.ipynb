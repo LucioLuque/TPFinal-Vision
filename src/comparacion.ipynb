{
 "cells": [
  {
   "cell_type": "code",
   "execution_count": 45,
   "id": "6edfd95f",
   "metadata": {},
   "outputs": [
    {
     "name": "stdout",
     "output_type": "stream",
     "text": [
      "The autoreload extension is already loaded. To reload it, use:\n",
      "  %reload_ext autoreload\n"
     ]
    }
   ],
   "source": [
    "from PIL import Image\n",
    "import matplotlib.pyplot as plt\n",
    "import numpy as np\n",
    "\n",
    "import models\n",
    "import metrics\n",
    "\n",
    "%load_ext autoreload\n",
    "%autoreload 2"
   ]
  },
  {
   "cell_type": "code",
   "execution_count": 46,
   "id": "12029d42",
   "metadata": {},
   "outputs": [],
   "source": [
    "def get_images(amount, factor):\n",
    "    images = []\n",
    "    file_path = f\"../Datasets/Test/Set{amount}/image_SRF_{factor}/\"\n",
    "    for i in range(1, amount + 1):\n",
    "        hr_image = Image.open(f\"{file_path}/img_{i:03d}_SRF_{factor}_HR.png\")\n",
    "        lr_image = Image.open(f\"{file_path}/img_{i:03d}_SRF_{factor}_LR.png\")\n",
    "        images.append((hr_image, lr_image))\n",
    "    return images"
   ]
  },
  {
   "cell_type": "code",
   "execution_count": 47,
   "id": "95d644e1",
   "metadata": {},
   "outputs": [
    {
     "name": "stdout",
     "output_type": "stream",
     "text": [
      "(512, 512) (256, 256)\n"
     ]
    }
   ],
   "source": [
    "amount = 5\n",
    "factor = 2\n",
    "images = get_images(amount, factor)\n",
    "print(images[0][0].size, images[0][1].size)"
   ]
  },
  {
   "cell_type": "code",
   "execution_count": 48,
   "id": "696ade3a",
   "metadata": {},
   "outputs": [],
   "source": [
    "lr_images = [img[1] for img in images]\n",
    "hr_images = [img[0] for img in images]"
   ]
  },
  {
   "cell_type": "code",
   "execution_count": 49,
   "id": "a69bb501",
   "metadata": {},
   "outputs": [
    {
     "name": "stdout",
     "output_type": "stream",
     "text": [
      "Method: bicubic\n",
      "PSNR: 31.79, SSIM: 0.9178\n",
      "Method: nearest\n",
      "PSNR: 29.08, SSIM: 0.8913\n",
      "Method: bilinear\n",
      "PSNR: 30.42, SSIM: 0.8974\n"
     ]
    }
   ],
   "source": [
    "methods = [\"bicubic\", \"nearest\", \"bilinear\"]\n",
    "for method in methods:\n",
    "    print(f\"Method: {method}\")\n",
    "    upsampled_imgs = models.upsample_images(lr_images, factor, method)\n",
    "    psnr = np.mean([metrics.calculate_psnr(hr_images[i], upsampled_imgs[i]) for i in range(amount)])\n",
    "    ssim = np.mean([metrics.calculate_ssim(hr_images[i], upsampled_imgs[i]) for i in range(amount)])\n",
    "    print(f\"PSNR: {psnr:.2f}, SSIM: {ssim:.4f}\")"
   ]
  }
 ],
 "metadata": {
  "kernelspec": {
   "display_name": "metodos",
   "language": "python",
   "name": "python3"
  },
  "language_info": {
   "codemirror_mode": {
    "name": "ipython",
    "version": 3
   },
   "file_extension": ".py",
   "mimetype": "text/x-python",
   "name": "python",
   "nbconvert_exporter": "python",
   "pygments_lexer": "ipython3",
   "version": "3.11.4"
  }
 },
 "nbformat": 4,
 "nbformat_minor": 5
}
