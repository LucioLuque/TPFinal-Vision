{
 "cells": [
  {
   "cell_type": "code",
   "execution_count": 4,
   "id": "6edfd95f",
   "metadata": {},
   "outputs": [],
   "source": [
    "from PIL import Image\n",
    "import matplotlib.pyplot as plt\n",
    "import numpy as np\n",
    "import pandas as pd\n",
    "import models\n",
    "import metrics\n",
    "\n",
    "%load_ext autoreload\n",
    "%autoreload 2"
   ]
  },
  {
   "cell_type": "code",
   "execution_count": 5,
   "id": "12029d42",
   "metadata": {},
   "outputs": [],
   "source": [
    "def get_images(set_number, factor):\n",
    "    images = []\n",
    "    file_path = f\"../Datasets/Test/Set{set_number}/image_SRF_{factor}/\"\n",
    "    for i in range(1, set_number + 1):\n",
    "        hr_image = Image.open(f\"{file_path}/img_{i:03d}_SRF_{factor}_HR.png\")\n",
    "        lr_image = Image.open(f\"{file_path}/img_{i:03d}_SRF_{factor}_LR.png\")\n",
    "        images.append((hr_image, lr_image))\n",
    "    return images"
   ]
  },
  {
   "cell_type": "code",
   "execution_count": 6,
   "id": "95d644e1",
   "metadata": {},
   "outputs": [
    {
     "name": "stdout",
     "output_type": "stream",
     "text": [
      "(512, 512) (256, 256)\n"
     ]
    }
   ],
   "source": [
    "set_number = 5\n",
    "factor = 2\n",
    "images = get_images(set_number, factor)\n",
    "print(images[0][0].size, images[0][1].size)"
   ]
  },
  {
   "cell_type": "code",
   "execution_count": 7,
   "id": "696ade3a",
   "metadata": {},
   "outputs": [],
   "source": [
    "lr_images = [img[1] for img in images]\n",
    "hr_images = [img[0] for img in images]"
   ]
  },
  {
   "cell_type": "code",
   "execution_count": 8,
   "id": "028d042b",
   "metadata": {},
   "outputs": [],
   "source": [
    "def get_all_images():\n",
    "    all_images = {5: {}, 14: {}}\n",
    "    factors = [2, 3, 4]\n",
    "    for set_number in [5, 14]:\n",
    "        # all_images[set_number] = {}\n",
    "        for factor in factors:\n",
    "            images = get_images(set_number, factor)\n",
    "            lr_images = [img[1] for img in images]\n",
    "            hr_images = [img[0] for img in images]\n",
    "            all_images[set_number][factor] = {\n",
    "                'lr': lr_images,\n",
    "                'hr': hr_images\n",
    "            }\n",
    "    return all_images"
   ]
  },
  {
   "cell_type": "code",
   "execution_count": 9,
   "id": "4dbaefd7",
   "metadata": {},
   "outputs": [],
   "source": [
    "all_images = get_all_images()"
   ]
  },
  {
   "cell_type": "code",
   "execution_count": 10,
   "id": "7f66ad35",
   "metadata": {},
   "outputs": [
    {
     "name": "stdout",
     "output_type": "stream",
     "text": [
      "dict_keys([5, 14])\n",
      "dict_keys([2, 3, 4])\n",
      "dict_keys(['lr', 'hr'])\n",
      "5 5\n"
     ]
    }
   ],
   "source": [
    "print(all_images.keys())\n",
    "print(all_images[5].keys())\n",
    "print(all_images[5][2].keys())\n",
    "print(len(all_images[5][2]['lr']), len(all_images[5][2]['hr']))"
   ]
  },
  {
   "cell_type": "code",
   "execution_count": 12,
   "id": "a69bb501",
   "metadata": {},
   "outputs": [
    {
     "name": "stdout",
     "output_type": "stream",
     "text": [
      "##### Set 5, Factor 2\n",
      "Method: bicubic\n",
      "PSNR: 31.79, SSIM: 0.9178\n",
      "Method: nearest\n",
      "PSNR: 29.08, SSIM: 0.8913\n",
      "Method: bilinear\n",
      "PSNR: 30.42, SSIM: 0.8974\n",
      "\n",
      "\n",
      "##### Set 14, Factor 2\n",
      "Method: bicubic\n",
      "PSNR: 28.31, SSIM: 0.8526\n",
      "Method: nearest\n",
      "PSNR: 26.72, SSIM: 0.8329\n",
      "Method: bilinear\n",
      "PSNR: 27.32, SSIM: 0.8223\n",
      "\n",
      "\n"
     ]
    }
   ],
   "source": [
    "methods = [\"bicubic\", \"nearest\", \"bilinear\"]\n",
    "#hacerlo en un pandas y msotra tabla final mas linda\n",
    "for set_number in [5, 14]:\n",
    "    for factor in [2]:\n",
    "        print(f\"##### Set {set_number}, Factor {factor}\")\n",
    "        for method in methods:\n",
    "            print(f\"Method: {method}\")\n",
    "            lr_images = all_images[set_number][factor]['lr']\n",
    "            hr_images = all_images[set_number][factor]['hr']\n",
    "            unsampled_images = models.upsample_images(lr_images, method=method, scale_factor=factor)\n",
    "            psnr = np.mean([metrics.calculate_psnr(hr_images[i], unsampled_images[i]) for i in range(len(hr_images))])\n",
    "            ssim = np.mean([metrics.calculate_ssim(hr_images[i], unsampled_images[i]) for i in range(len(hr_images))])\n",
    "            print(f\"PSNR: {psnr:.2f}, SSIM: {ssim:.4f}\")\n",
    "        print(\"\\n\")"
   ]
  }
 ],
 "metadata": {
  "kernelspec": {
   "display_name": "vision",
   "language": "python",
   "name": "python3"
  },
  "language_info": {
   "codemirror_mode": {
    "name": "ipython",
    "version": 3
   },
   "file_extension": ".py",
   "mimetype": "text/x-python",
   "name": "python",
   "nbconvert_exporter": "python",
   "pygments_lexer": "ipython3",
   "version": "3.13.3"
  }
 },
 "nbformat": 4,
 "nbformat_minor": 5
}
